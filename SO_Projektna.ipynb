{
  "nbformat": 4,
  "nbformat_minor": 0,
  "metadata": {
    "colab": {
      "provenance": [],
      "collapsed_sections": [
        "aThqe3NtvVR-"
      ],
      "authorship_tag": "ABX9TyO7IZOgEY9znHKPsc2YEIct",
      "include_colab_link": true
    },
    "kernelspec": {
      "name": "python3",
      "display_name": "Python 3"
    },
    "language_info": {
      "name": "python"
    }
  },
  "cells": [
    {
      "cell_type": "markdown",
      "metadata": {
        "id": "view-in-github",
        "colab_type": "text"
      },
      "source": [
        "<a href=\"https://colab.research.google.com/github/alenpihler11/Data/blob/main/SO_Projektna.ipynb\" target=\"_parent\"><img src=\"https://colab.research.google.com/assets/colab-badge.svg\" alt=\"Open In Colab\"/></a>"
      ]
    },
    {
      "cell_type": "markdown",
      "source": [
        "# **SO_PROJEKT**"
      ],
      "metadata": {
        "id": "FE_5k2BNh58i"
      }
    },
    {
      "cell_type": "markdown",
      "source": [
        "## **Pridobivanje podatkov**"
      ],
      "metadata": {
        "id": "vFBJ4Iysil0_"
      }
    },
    {
      "cell_type": "code",
      "source": [
        "import pandas as pd\n",
        "from sklearn import datasets\n",
        "\n",
        "\n",
        "\n",
        "def read_csv_file(file_path):\n",
        "    \"\"\" Prebere CSV datoteko in vrne DataFrame. \"\"\"\n",
        "    try:\n",
        "        data = pd.read_csv(file_path)\n",
        "        print(\"CSV Data:\")\n",
        "        print(data)\n",
        "        return data\n",
        "    except Exception as e:\n",
        "        print(f\"Napaka pri branju CSV datoteke: {e}\")\n",
        "        return None\n",
        "\n",
        "def read_txt_file(file_path):\n",
        "    \"\"\" Prebere TXT datoteko in izpiše njeno vsebino. \"\"\"\n",
        "    try:\n",
        "        with open(file_path, 'r') as file:\n",
        "            content = file.read()\n",
        "            print(\"TXT Data:\")\n",
        "            print(content)\n",
        "            return content\n",
        "    except Exception as e:\n",
        "        print(f\"Napaka pri branju TXT datoteke: {e}\")\n",
        "        return None\n",
        "\n",
        "def read_excel_file(file_path):\n",
        "    \"\"\" Prebere Excel datoteko in vrne DataFrame. \"\"\"\n",
        "    try:\n",
        "        data = pd.read_excel(file_path)\n",
        "        print(\"Excel Data:\")\n",
        "        print(data)\n",
        "        return data\n",
        "    except Exception as e:\n",
        "        print(f\"Napaka pri branju Excel datoteke: {e}\")\n",
        "        return None\n",
        "\n",
        "def user_choice():\n",
        "    print(\"Izberite vrsto datoteke za branje:\")\n",
        "    print(\"1. CSV\")\n",
        "    print(\"2. TXT\")\n",
        "    print(\"3. Excel\")\n",
        "    choice = input(\"Vnesite številko izbire (1, 2 ali 3): \")\n",
        "    file_path = input(\"Vnesite pot do datoteke: \")\n",
        "\n",
        "    data = None\n",
        "    if choice == '1':\n",
        "        data = read_csv_file(file_path)\n",
        "    elif choice == '2':\n",
        "        data = read_txt_file(file_path)\n",
        "    elif choice == '3':\n",
        "        data = read_excel_file(file_path)\n",
        "    else:\n",
        "        print(\"Napačna izbira, prosim izberite 1, 2 ali 3.\")\n",
        "\n",
        "    return data\n",
        "\n",
        "data = user_choice()\n",
        "if data is not None:\n",
        "    print(\"Podatki so bili uspešno pridobljeni.\")\n",
        "else:\n",
        "    print(\"Ni podatkov za prikaz ali napaka pri branju datoteke.\")\n",
        "\n",
        "\n"
      ],
      "metadata": {
        "id": "Oy0Zs9QTh5ST",
        "colab": {
          "base_uri": "https://localhost:8080/"
        },
        "outputId": "b17977eb-a790-4eb0-f6d2-143037a639b7"
      },
      "execution_count": 63,
      "outputs": [
        {
          "output_type": "stream",
          "name": "stdout",
          "text": [
            "Izberite vrsto datoteke za branje:\n",
            "1. CSV\n",
            "2. TXT\n",
            "3. Excel\n",
            "Vnesite številko izbire (1, 2 ali 3): 1\n",
            "Vnesite pot do datoteke: https://raw.githubusercontent.com/dataprofessor/data/master/heart-disease-cleveland.csv\n",
            "CSV Data:\n",
            "     age   sex   cp   trestbps   chol   fbs   restecg   thalach   exang  \\\n",
            "0     63     1    1        145    233     1         2       150       0   \n",
            "1     67     1    4        160    286     0         2       108       1   \n",
            "2     67     1    4        120    229     0         2       129       1   \n",
            "3     37     1    3        130    250     0         0       187       0   \n",
            "4     41     0    2        130    204     0         2       172       0   \n",
            "..   ...   ...  ...        ...    ...   ...       ...       ...     ...   \n",
            "298   45     1    1        110    264     0         0       132       0   \n",
            "299   68     1    4        144    193     1         0       141       0   \n",
            "300   57     1    4        130    131     0         0       115       1   \n",
            "301   57     0    2        130    236     0         2       174       0   \n",
            "302   38     1    3        138    175     0         0       173       0   \n",
            "\n",
            "      oldpeak   slope   ca  thal   diagnosis  \n",
            "0         2.3       3  0.0   6.0           0  \n",
            "1         1.5       2  3.0   3.0           2  \n",
            "2         2.6       2  2.0   7.0           1  \n",
            "3         3.5       3  0.0   3.0           0  \n",
            "4         1.4       1  0.0   3.0           0  \n",
            "..        ...     ...  ...   ...         ...  \n",
            "298       1.2       2  0.0   7.0           1  \n",
            "299       3.4       2  2.0   7.0           2  \n",
            "300       1.2       2  1.0   7.0           3  \n",
            "301       0.0       2  1.0   3.0           1  \n",
            "302       0.0       1    ?   3.0           0  \n",
            "\n",
            "[303 rows x 14 columns]\n",
            "Podatki so bili uspešno pridobljeni.\n"
          ]
        }
      ]
    },
    {
      "cell_type": "markdown",
      "source": [
        "## **Priprava podatkov**"
      ],
      "metadata": {
        "id": "OLuc-3MYj6hE"
      }
    },
    {
      "cell_type": "markdown",
      "source": [
        "### **Čiščenje podatkov**"
      ],
      "metadata": {
        "id": "lYZECGfRJbXc"
      }
    },
    {
      "cell_type": "code",
      "source": [
        "data = data[~data.apply(lambda row: row.astype(str).str.contains('\\?').any(), axis=1)]"
      ],
      "metadata": {
        "id": "kFqAWCVvJI4A"
      },
      "execution_count": 64,
      "outputs": []
    },
    {
      "cell_type": "markdown",
      "source": [
        "### **Razdelitev podatkov na X in Y**"
      ],
      "metadata": {
        "id": "j1w02PCFkETw"
      }
    },
    {
      "cell_type": "code",
      "source": [
        "y = data[' diagnosis']\n",
        "print(y)"
      ],
      "metadata": {
        "colab": {
          "base_uri": "https://localhost:8080/"
        },
        "id": "XMEl5xnGkdh7",
        "outputId": "459efbeb-834d-4681-bd8f-ba79b590bcc0"
      },
      "execution_count": 65,
      "outputs": [
        {
          "output_type": "stream",
          "name": "stdout",
          "text": [
            "0      0\n",
            "1      2\n",
            "2      1\n",
            "3      0\n",
            "4      0\n",
            "      ..\n",
            "297    1\n",
            "298    1\n",
            "299    2\n",
            "300    3\n",
            "301    1\n",
            "Name:  diagnosis, Length: 297, dtype: int64\n"
          ]
        }
      ]
    },
    {
      "cell_type": "code",
      "source": [
        "x = data.drop(' diagnosis', axis = 1 )\n",
        "print(x)"
      ],
      "metadata": {
        "colab": {
          "base_uri": "https://localhost:8080/"
        },
        "id": "mGebLRGWmcKW",
        "outputId": "df0a702a-80bf-46c2-d2c0-ede665b546e9"
      },
      "execution_count": 66,
      "outputs": [
        {
          "output_type": "stream",
          "name": "stdout",
          "text": [
            "     age   sex   cp   trestbps   chol   fbs   restecg   thalach   exang  \\\n",
            "0     63     1    1        145    233     1         2       150       0   \n",
            "1     67     1    4        160    286     0         2       108       1   \n",
            "2     67     1    4        120    229     0         2       129       1   \n",
            "3     37     1    3        130    250     0         0       187       0   \n",
            "4     41     0    2        130    204     0         2       172       0   \n",
            "..   ...   ...  ...        ...    ...   ...       ...       ...     ...   \n",
            "297   57     0    4        140    241     0         0       123       1   \n",
            "298   45     1    1        110    264     0         0       132       0   \n",
            "299   68     1    4        144    193     1         0       141       0   \n",
            "300   57     1    4        130    131     0         0       115       1   \n",
            "301   57     0    2        130    236     0         2       174       0   \n",
            "\n",
            "      oldpeak   slope   ca  thal  \n",
            "0         2.3       3  0.0   6.0  \n",
            "1         1.5       2  3.0   3.0  \n",
            "2         2.6       2  2.0   7.0  \n",
            "3         3.5       3  0.0   3.0  \n",
            "4         1.4       1  0.0   3.0  \n",
            "..        ...     ...  ...   ...  \n",
            "297       0.2       2  0.0   7.0  \n",
            "298       1.2       2  0.0   7.0  \n",
            "299       3.4       2  2.0   7.0  \n",
            "300       1.2       2  1.0   7.0  \n",
            "301       0.0       2  1.0   3.0  \n",
            "\n",
            "[297 rows x 13 columns]\n"
          ]
        }
      ]
    },
    {
      "cell_type": "markdown",
      "source": [
        "### **Delitev na testno in učno množico**"
      ],
      "metadata": {
        "id": "j9aJJMrVoOx_"
      }
    },
    {
      "cell_type": "code",
      "source": [
        "from sklearn.model_selection import train_test_split\n",
        "\n",
        "x_train, x_test, y_train, y_test = train_test_split(x,y,test_size=0.2, random_state=1)\n"
      ],
      "metadata": {
        "id": "scn1qAYmppps"
      },
      "execution_count": 67,
      "outputs": []
    },
    {
      "cell_type": "code",
      "source": [
        "print(x_train)"
      ],
      "metadata": {
        "colab": {
          "base_uri": "https://localhost:8080/"
        },
        "collapsed": true,
        "id": "ib2taEGZqV5X",
        "outputId": "b0f10b7c-87a6-4e81-87ef-fea2cf71a31c"
      },
      "execution_count": 68,
      "outputs": [
        {
          "output_type": "stream",
          "name": "stdout",
          "text": [
            "     age   sex   cp   trestbps   chol   fbs   restecg   thalach   exang  \\\n",
            "160   46     1    2        101    197     1         0       156       0   \n",
            "108   61     1    4        120    260     0         0       140       1   \n",
            "222   39     0    3         94    199     0         0       179       0   \n",
            "220   41     0    3        112    268     0         2       172       1   \n",
            "39    61     1    3        150    243     1         0       137       1   \n",
            "..   ...   ...  ...        ...    ...   ...       ...       ...     ...   \n",
            "206   58     1    4        128    259     0         2       130       1   \n",
            "258   70     1    2        156    245     0         2       143       0   \n",
            "72    62     1    4        120    267     0         0        99       1   \n",
            "238   49     0    2        134    271     0         0       162       0   \n",
            "37    57     1    4        150    276     0         2       112       1   \n",
            "\n",
            "      oldpeak   slope   ca  thal  \n",
            "160       0.0       1  0.0   7.0  \n",
            "108       3.6       2  1.0   7.0  \n",
            "222       0.0       1  0.0   3.0  \n",
            "220       0.0       1  0.0   3.0  \n",
            "39        1.0       2  0.0   3.0  \n",
            "..        ...     ...  ...   ...  \n",
            "206       3.0       2  2.0   7.0  \n",
            "258       0.0       1  0.0   3.0  \n",
            "72        1.8       2  2.0   7.0  \n",
            "238       0.0       2  0.0   3.0  \n",
            "37        0.6       2  1.0   6.0  \n",
            "\n",
            "[237 rows x 13 columns]\n"
          ]
        }
      ]
    },
    {
      "cell_type": "code",
      "source": [
        "print(x_test)"
      ],
      "metadata": {
        "colab": {
          "base_uri": "https://localhost:8080/"
        },
        "collapsed": true,
        "id": "YymovLNLqkZo",
        "outputId": "839dec34-d197-436e-b101-a43326286ad0"
      },
      "execution_count": 73,
      "outputs": [
        {
          "output_type": "stream",
          "name": "stdout",
          "text": [
            "     age   sex   cp   trestbps   chol   fbs   restecg   thalach   exang  \\\n",
            "139   51     1    3        125    245     1         2       166       0   \n",
            "236   56     1    4        130    283     1         2       103       1   \n",
            "51    65     1    4        120    177     0         0       140       0   \n",
            "295   41     1    2        120    157     0         0       182       0   \n",
            "245   67     1    4        120    237     0         0        71       0   \n",
            "247   47     1    4        110    275     0         2       118       1   \n",
            "276   66     0    3        146    278     0         2       152       0   \n",
            "62    58     1    4        128    216     0         2       131       1   \n",
            "27    66     0    1        150    226     0         0       114       0   \n",
            "123   55     1    4        140    217     0         0       111       1   \n",
            "111   56     1    4        125    249     1         2       144       1   \n",
            "118   63     1    4        130    330     1         2       132       1   \n",
            "11    56     0    2        140    294     0         2       153       0   \n",
            "188   54     1    2        192    283     0         2       195       0   \n",
            "109   39     1    4        118    219     0         0       140       0   \n",
            "187   66     1    2        160    246     0         0       120       1   \n",
            "299   68     1    4        144    193     1         0       141       0   \n",
            "128   44     1    2        120    220     0         0       170       0   \n",
            "267   59     1    3        126    218     1         0       134       0   \n",
            "73    65     1    4        110    248     0         2       158       0   \n",
            "106   59     1    4        140    177     0         0       162       1   \n",
            "12    56     1    3        130    256     1         2       142       1   \n",
            "140   59     1    2        140    221     0         0       164       1   \n",
            "18    48     0    3        130    275     0         0       139       0   \n",
            "289   56     1    2        120    240     0         0       169       0   \n",
            "227   67     0    3        152    277     0         0       172       0   \n",
            "301   57     0    2        130    236     0         2       174       0   \n",
            "231   55     0    4        180    327     0         1       117       1   \n",
            "182   42     1    1        148    244     0         2       178       0   \n",
            "221   54     0    3        108    267     0         2       167       0   \n",
            "242   49     0    4        130    269     0         0       163       0   \n",
            "237   46     1    4        120    249     0         2       144       0   \n",
            "85    44     1    3        140    235     0         2       180       0   \n",
            "91    62     0    4        160    164     0         2       145       0   \n",
            "174   64     1    4        145    212     0         2       132       0   \n",
            "173   62     0    4        140    394     0         2       157       0   \n",
            "216   46     0    2        105    204     0         0       172       0   \n",
            "147   41     1    3        112    250     0         0       179       0   \n",
            "89    51     0    3        130    256     0         2       149       0   \n",
            "189   69     1    3        140    254     0         2       146       0   \n",
            "4     41     0    2        130    204     0         2       172       0   \n",
            "194   68     0    3        120    211     0         2       115       0   \n",
            "178   43     1    3        130    315     0         0       162       0   \n",
            "248   52     1    4        125    212     0         0       168       0   \n",
            "291   55     0    2        132    342     0         0       166       0   \n",
            "16    48     1    2        110    229     0         0       168       0   \n",
            "70    65     0    3        155    269     0         0       148       0   \n",
            "243   61     1    1        134    234     0         0       145       0   \n",
            "58    54     1    3        125    273     0         2       152       0   \n",
            "92    62     1    3        130    231     0         0       146       0   \n",
            "172   59     0    4        174    249     0         0       143       1   \n",
            "275   64     1    1        170    227     0         2       155       0   \n",
            "158   60     1    4        140    293     0         2       170       0   \n",
            "59    51     1    1        125    213     0         2       125       1   \n",
            "183   59     1    1        178    270     0         2       145       0   \n",
            "213   66     0    4        178    228     1         0       165       1   \n",
            "191   51     1    4        140    298     0         0       122       1   \n",
            "155   70     1    4        130    322     0         2       109       0   \n",
            "151   42     0    4        102    265     0         2       122       0   \n",
            "228   54     1    4        110    206     0         2       108       1   \n",
            "\n",
            "      oldpeak   slope   ca  thal  \n",
            "139       2.4       2  0.0   3.0  \n",
            "236       1.6       3  0.0   7.0  \n",
            "51        0.4       1  0.0   7.0  \n",
            "295       0.0       1  0.0   3.0  \n",
            "245       1.0       2  0.0   3.0  \n",
            "247       1.0       2  1.0   3.0  \n",
            "276       0.0       2  1.0   3.0  \n",
            "62        2.2       2  3.0   7.0  \n",
            "27        2.6       3  0.0   3.0  \n",
            "123       5.6       3  0.0   7.0  \n",
            "111       1.2       2  1.0   3.0  \n",
            "118       1.8       1  3.0   7.0  \n",
            "11        1.3       2  0.0   3.0  \n",
            "188       0.0       1  1.0   7.0  \n",
            "109       1.2       2  0.0   7.0  \n",
            "187       0.0       2  3.0   6.0  \n",
            "299       3.4       2  2.0   7.0  \n",
            "128       0.0       1  0.0   3.0  \n",
            "267       2.2       2  1.0   6.0  \n",
            "73        0.6       1  2.0   6.0  \n",
            "106       0.0       1  1.0   7.0  \n",
            "12        0.6       2  1.0   6.0  \n",
            "140       0.0       1  0.0   3.0  \n",
            "18        0.2       1  0.0   3.0  \n",
            "289       0.0       3  0.0   3.0  \n",
            "227       0.0       1  1.0   3.0  \n",
            "301       0.0       2  1.0   3.0  \n",
            "231       3.4       2  0.0   3.0  \n",
            "182       0.8       1  2.0   3.0  \n",
            "221       0.0       1  0.0   3.0  \n",
            "242       0.0       1  0.0   3.0  \n",
            "237       0.8       1  0.0   7.0  \n",
            "85        0.0       1  0.0   3.0  \n",
            "91        6.2       3  3.0   7.0  \n",
            "174       2.0       2  2.0   6.0  \n",
            "173       1.2       2  0.0   3.0  \n",
            "216       0.0       1  0.0   3.0  \n",
            "147       0.0       1  0.0   3.0  \n",
            "89        0.5       1  0.0   3.0  \n",
            "189       2.0       2  3.0   7.0  \n",
            "4         1.4       1  0.0   3.0  \n",
            "194       1.5       2  0.0   3.0  \n",
            "178       1.9       1  1.0   3.0  \n",
            "248       1.0       1  2.0   7.0  \n",
            "291       1.2       1  0.0   3.0  \n",
            "16        1.0       3  0.0   7.0  \n",
            "70        0.8       1  0.0   3.0  \n",
            "243       2.6       2  2.0   3.0  \n",
            "58        0.5       3  1.0   3.0  \n",
            "92        1.8       2  3.0   7.0  \n",
            "172       0.0       2  0.0   3.0  \n",
            "275       0.6       2  0.0   7.0  \n",
            "158       1.2       2  2.0   7.0  \n",
            "59        1.4       1  1.0   3.0  \n",
            "183       4.2       3  0.0   7.0  \n",
            "213       1.0       2  2.0   7.0  \n",
            "191       4.2       2  3.0   7.0  \n",
            "155       2.4       2  3.0   3.0  \n",
            "151       0.6       2  0.0   3.0  \n",
            "228       0.0       2  1.0   3.0  \n"
          ]
        }
      ]
    },
    {
      "cell_type": "markdown",
      "source": [
        "### **Gradnja modela**"
      ],
      "metadata": {
        "id": "aThqe3NtvVR-"
      }
    },
    {
      "cell_type": "markdown",
      "source": [
        "### **Odlocitveno_drevo**"
      ],
      "metadata": {
        "id": "Lhp98QuIvkBj"
      }
    },
    {
      "cell_type": "code",
      "source": [
        "from sklearn.tree import DecisionTreeClassifier\n",
        "from sklearn.metrics import accuracy_score\n",
        "import matplotlib.pyplot as plt\n",
        "from sklearn import tree\n",
        "from sklearn.metrics import accuracy_score, precision_score, recall_score, f1_score\n",
        "\n",
        "\n",
        "dtc = DecisionTreeClassifier(random_state=0)\n",
        "\n",
        "dtc.fit(x_train, y_train)\n",
        "\n",
        "dtc_pred = dtc.predict(x_test)\n",
        "\n",
        "\n",
        "\n",
        "accuracy = accuracy_score(y_test, dtc_pred)\n",
        "\n",
        "precision = precision_score(y_test, dtc_pred, average=\"weighted\")\n",
        "\n",
        "recall = recall_score(y_test, dtc_pred, average=\"weighted\")\n",
        "\n",
        "f1 = f1_score(y_test, dtc_pred, average=\"weighted\")\n",
        "\n",
        "\n",
        "result = pd.DataFrame(['Odlocitveno drevo',accuracy,precision, recall, f1]).transpose()\n",
        "result.columns = ['Metoda','Natančnost', 'Preciznost','Recall', 'F1']\n",
        "\n",
        "result\n"
      ],
      "metadata": {
        "colab": {
          "base_uri": "https://localhost:8080/",
          "height": 81
        },
        "id": "OlwPIw0N0xLJ",
        "outputId": "b2a9c807-0b69-4960-b8d4-54193fe7c576"
      },
      "execution_count": 88,
      "outputs": [
        {
          "output_type": "execute_result",
          "data": {
            "text/plain": [
              "              Metoda Natančnost Preciznost    Recall        F1\n",
              "0  Odlocitveno drevo   0.516667   0.513763  0.516667  0.513955"
            ],
            "text/html": [
              "\n",
              "  <div id=\"df-ecc42c6e-9817-41ea-b0b4-441b87c29559\" class=\"colab-df-container\">\n",
              "    <div>\n",
              "<style scoped>\n",
              "    .dataframe tbody tr th:only-of-type {\n",
              "        vertical-align: middle;\n",
              "    }\n",
              "\n",
              "    .dataframe tbody tr th {\n",
              "        vertical-align: top;\n",
              "    }\n",
              "\n",
              "    .dataframe thead th {\n",
              "        text-align: right;\n",
              "    }\n",
              "</style>\n",
              "<table border=\"1\" class=\"dataframe\">\n",
              "  <thead>\n",
              "    <tr style=\"text-align: right;\">\n",
              "      <th></th>\n",
              "      <th>Metoda</th>\n",
              "      <th>Natančnost</th>\n",
              "      <th>Preciznost</th>\n",
              "      <th>Recall</th>\n",
              "      <th>F1</th>\n",
              "    </tr>\n",
              "  </thead>\n",
              "  <tbody>\n",
              "    <tr>\n",
              "      <th>0</th>\n",
              "      <td>Odlocitveno drevo</td>\n",
              "      <td>0.516667</td>\n",
              "      <td>0.513763</td>\n",
              "      <td>0.516667</td>\n",
              "      <td>0.513955</td>\n",
              "    </tr>\n",
              "  </tbody>\n",
              "</table>\n",
              "</div>\n",
              "    <div class=\"colab-df-buttons\">\n",
              "\n",
              "  <div class=\"colab-df-container\">\n",
              "    <button class=\"colab-df-convert\" onclick=\"convertToInteractive('df-ecc42c6e-9817-41ea-b0b4-441b87c29559')\"\n",
              "            title=\"Convert this dataframe to an interactive table.\"\n",
              "            style=\"display:none;\">\n",
              "\n",
              "  <svg xmlns=\"http://www.w3.org/2000/svg\" height=\"24px\" viewBox=\"0 -960 960 960\">\n",
              "    <path d=\"M120-120v-720h720v720H120Zm60-500h600v-160H180v160Zm220 220h160v-160H400v160Zm0 220h160v-160H400v160ZM180-400h160v-160H180v160Zm440 0h160v-160H620v160ZM180-180h160v-160H180v160Zm440 0h160v-160H620v160Z\"/>\n",
              "  </svg>\n",
              "    </button>\n",
              "\n",
              "  <style>\n",
              "    .colab-df-container {\n",
              "      display:flex;\n",
              "      gap: 12px;\n",
              "    }\n",
              "\n",
              "    .colab-df-convert {\n",
              "      background-color: #E8F0FE;\n",
              "      border: none;\n",
              "      border-radius: 50%;\n",
              "      cursor: pointer;\n",
              "      display: none;\n",
              "      fill: #1967D2;\n",
              "      height: 32px;\n",
              "      padding: 0 0 0 0;\n",
              "      width: 32px;\n",
              "    }\n",
              "\n",
              "    .colab-df-convert:hover {\n",
              "      background-color: #E2EBFA;\n",
              "      box-shadow: 0px 1px 2px rgba(60, 64, 67, 0.3), 0px 1px 3px 1px rgba(60, 64, 67, 0.15);\n",
              "      fill: #174EA6;\n",
              "    }\n",
              "\n",
              "    .colab-df-buttons div {\n",
              "      margin-bottom: 4px;\n",
              "    }\n",
              "\n",
              "    [theme=dark] .colab-df-convert {\n",
              "      background-color: #3B4455;\n",
              "      fill: #D2E3FC;\n",
              "    }\n",
              "\n",
              "    [theme=dark] .colab-df-convert:hover {\n",
              "      background-color: #434B5C;\n",
              "      box-shadow: 0px 1px 3px 1px rgba(0, 0, 0, 0.15);\n",
              "      filter: drop-shadow(0px 1px 2px rgba(0, 0, 0, 0.3));\n",
              "      fill: #FFFFFF;\n",
              "    }\n",
              "  </style>\n",
              "\n",
              "    <script>\n",
              "      const buttonEl =\n",
              "        document.querySelector('#df-ecc42c6e-9817-41ea-b0b4-441b87c29559 button.colab-df-convert');\n",
              "      buttonEl.style.display =\n",
              "        google.colab.kernel.accessAllowed ? 'block' : 'none';\n",
              "\n",
              "      async function convertToInteractive(key) {\n",
              "        const element = document.querySelector('#df-ecc42c6e-9817-41ea-b0b4-441b87c29559');\n",
              "        const dataTable =\n",
              "          await google.colab.kernel.invokeFunction('convertToInteractive',\n",
              "                                                    [key], {});\n",
              "        if (!dataTable) return;\n",
              "\n",
              "        const docLinkHtml = 'Like what you see? Visit the ' +\n",
              "          '<a target=\"_blank\" href=https://colab.research.google.com/notebooks/data_table.ipynb>data table notebook</a>'\n",
              "          + ' to learn more about interactive tables.';\n",
              "        element.innerHTML = '';\n",
              "        dataTable['output_type'] = 'display_data';\n",
              "        await google.colab.output.renderOutput(dataTable, element);\n",
              "        const docLink = document.createElement('div');\n",
              "        docLink.innerHTML = docLinkHtml;\n",
              "        element.appendChild(docLink);\n",
              "      }\n",
              "    </script>\n",
              "  </div>\n",
              "\n",
              "    </div>\n",
              "  </div>\n"
            ],
            "application/vnd.google.colaboratory.intrinsic+json": {
              "type": "dataframe",
              "variable_name": "result",
              "summary": "{\n  \"name\": \"result\",\n  \"rows\": 1,\n  \"fields\": [\n    {\n      \"column\": \"Metoda\",\n      \"properties\": {\n        \"dtype\": \"string\",\n        \"num_unique_values\": 1,\n        \"samples\": [\n          \"Odlocitveno drevo\"\n        ],\n        \"semantic_type\": \"\",\n        \"description\": \"\"\n      }\n    },\n    {\n      \"column\": \"Natan\\u010dnost\",\n      \"properties\": {\n        \"dtype\": \"date\",\n        \"min\": 0.5166666666666667,\n        \"max\": 0.5166666666666667,\n        \"num_unique_values\": 1,\n        \"samples\": [\n          0.5166666666666667\n        ],\n        \"semantic_type\": \"\",\n        \"description\": \"\"\n      }\n    },\n    {\n      \"column\": \"Preciznost\",\n      \"properties\": {\n        \"dtype\": \"date\",\n        \"min\": 0.5137634408602151,\n        \"max\": 0.5137634408602151,\n        \"num_unique_values\": 1,\n        \"samples\": [\n          0.5137634408602151\n        ],\n        \"semantic_type\": \"\",\n        \"description\": \"\"\n      }\n    },\n    {\n      \"column\": \"Recall\",\n      \"properties\": {\n        \"dtype\": \"date\",\n        \"min\": 0.5166666666666667,\n        \"max\": 0.5166666666666667,\n        \"num_unique_values\": 1,\n        \"samples\": [\n          0.5166666666666667\n        ],\n        \"semantic_type\": \"\",\n        \"description\": \"\"\n      }\n    },\n    {\n      \"column\": \"F1\",\n      \"properties\": {\n        \"dtype\": \"date\",\n        \"min\": 0.5139554434636401,\n        \"max\": 0.5139554434636401,\n        \"num_unique_values\": 1,\n        \"samples\": [\n          0.5139554434636401\n        ],\n        \"semantic_type\": \"\",\n        \"description\": \"\"\n      }\n    }\n  ]\n}"
            }
          },
          "metadata": {},
          "execution_count": 88
        }
      ]
    },
    {
      "cell_type": "markdown",
      "source": [
        "### **KNN**"
      ],
      "metadata": {
        "id": "gqYHQ7gCvw-8"
      }
    }
  ]
}