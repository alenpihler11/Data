{
  "nbformat": 4,
  "nbformat_minor": 0,
  "metadata": {
    "colab": {
      "provenance": [],
      "collapsed_sections": [
        "aThqe3NtvVR-"
      ],
      "authorship_tag": "ABX9TyMyhDIRoHXW2kyypQIhoAB9",
      "include_colab_link": true
    },
    "kernelspec": {
      "name": "python3",
      "display_name": "Python 3"
    },
    "language_info": {
      "name": "python"
    }
  },
  "cells": [
    {
      "cell_type": "markdown",
      "metadata": {
        "id": "view-in-github",
        "colab_type": "text"
      },
      "source": [
        "<a href=\"https://colab.research.google.com/github/alenpihler11/Data/blob/main/SO_Projektna.ipynb\" target=\"_parent\"><img src=\"https://colab.research.google.com/assets/colab-badge.svg\" alt=\"Open In Colab\"/></a>"
      ]
    },
    {
      "cell_type": "markdown",
      "source": [
        "# **SO_PROJEKT**"
      ],
      "metadata": {
        "id": "FE_5k2BNh58i"
      }
    },
    {
      "cell_type": "markdown",
      "source": [
        "## **Pridobivanje podatkov**"
      ],
      "metadata": {
        "id": "vFBJ4Iysil0_"
      }
    },
    {
      "cell_type": "code",
      "source": [
        "import pandas as pd\n",
        "from sklearn import datasets\n",
        "\n",
        "\n",
        "\n",
        "def read_csv_file(file_path):\n",
        "    \"\"\" Prebere CSV datoteko in vrne DataFrame. \"\"\"\n",
        "    try:\n",
        "        data = pd.read_csv(file_path)\n",
        "        print(\"CSV Data:\")\n",
        "        print(data)\n",
        "        return data\n",
        "    except Exception as e:\n",
        "        print(f\"Napaka pri branju CSV datoteke: {e}\")\n",
        "        return None\n",
        "\n",
        "def read_txt_file(file_path):\n",
        "    \"\"\" Prebere TXT datoteko in izpiše njeno vsebino. \"\"\"\n",
        "    try:\n",
        "        with open(file_path, 'r') as file:\n",
        "            content = file.read()\n",
        "            print(\"TXT Data:\")\n",
        "            print(content)\n",
        "            return content\n",
        "    except Exception as e:\n",
        "        print(f\"Napaka pri branju TXT datoteke: {e}\")\n",
        "        return None\n",
        "\n",
        "def read_excel_file(file_path):\n",
        "    \"\"\" Prebere Excel datoteko in vrne DataFrame. \"\"\"\n",
        "    try:\n",
        "        data = pd.read_excel(file_path)\n",
        "        print(\"Excel Data:\")\n",
        "        print(data)\n",
        "        return data\n",
        "    except Exception as e:\n",
        "        print(f\"Napaka pri branju Excel datoteke: {e}\")\n",
        "        return None\n",
        "\n",
        "def user_choice():\n",
        "    print(\"Izberite vrsto datoteke za branje:\")\n",
        "    print(\"1. CSV\")\n",
        "    print(\"2. TXT\")\n",
        "    print(\"3. Excel\")\n",
        "    choice = input(\"Vnesite številko izbire (1, 2 ali 3): \")\n",
        "    file_path = input(\"Vnesite pot do datoteke: \")\n",
        "\n",
        "    data = None\n",
        "    if choice == '1':\n",
        "        data = read_csv_file(file_path)\n",
        "    elif choice == '2':\n",
        "        data = read_txt_file(file_path)\n",
        "    elif choice == '3':\n",
        "        data = read_excel_file(file_path)\n",
        "    else:\n",
        "        print(\"Napačna izbira, prosim izberite 1, 2 ali 3.\")\n",
        "\n",
        "    return data\n",
        "\n",
        "data = user_choice()\n",
        "if data is not None:\n",
        "    print(\"Podatki so bili uspešno pridobljeni.\")\n",
        "else:\n",
        "    print(\"Ni podatkov za prikaz ali napaka pri branju datoteke.\")\n",
        "\n",
        "\n"
      ],
      "metadata": {
        "id": "Oy0Zs9QTh5ST",
        "colab": {
          "base_uri": "https://localhost:8080/"
        },
        "outputId": "b5a291c3-8fe4-4aa8-cc6d-552a0269edd6"
      },
      "execution_count": 3,
      "outputs": [
        {
          "output_type": "stream",
          "name": "stdout",
          "text": [
            "Izberite vrsto datoteke za branje:\n",
            "1. CSV\n",
            "2. TXT\n",
            "3. Excel\n",
            "Vnesite številko izbire (1, 2 ali 3): 1\n",
            "Vnesite pot do datoteke: https://raw.githubusercontent.com/alenpihler11/Data/main/heart-disease-cleveland.csv\n",
            "CSV Data:\n",
            "     age   sex   cp   trestbps   chol   fbs   restecg   thalach   exang  \\\n",
            "0     63     1    1        145    233     1         2       150       0   \n",
            "1     67     1    4        160    286     0         2       108       1   \n",
            "2     67     1    4        120    229     0         2       129       1   \n",
            "3     37     1    3        130    250     0         0       187       0   \n",
            "4     41     0    2        130    204     0         2       172       0   \n",
            "..   ...   ...  ...        ...    ...   ...       ...       ...     ...   \n",
            "298   45     1    1        110    264     0         0       132       0   \n",
            "299   68     1    4        144    193     1         0       141       0   \n",
            "300   57     1    4        130    131     0         0       115       1   \n",
            "301   57     0    2        130    236     0         2       174       0   \n",
            "302   38     1    3        138    175     0         0       173       0   \n",
            "\n",
            "      oldpeak   slope   ca  thal   diagnosis  \n",
            "0         2.3       3  0.0   6.0           0  \n",
            "1         1.5       2  3.0   3.0           2  \n",
            "2         2.6       2  2.0   7.0           1  \n",
            "3         3.5       3  0.0   3.0           0  \n",
            "4         1.4       1  0.0   3.0           0  \n",
            "..        ...     ...  ...   ...         ...  \n",
            "298       1.2       2  0.0   7.0           1  \n",
            "299       3.4       2  2.0   7.0           2  \n",
            "300       1.2       2  1.0   7.0           3  \n",
            "301       0.0       2  1.0   3.0           1  \n",
            "302       0.0       1    ?   3.0           0  \n",
            "\n",
            "[303 rows x 14 columns]\n",
            "Podatki so bili uspešno pridobljeni.\n"
          ]
        }
      ]
    },
    {
      "cell_type": "markdown",
      "source": [
        "## **Priprava podatkov**"
      ],
      "metadata": {
        "id": "OLuc-3MYj6hE"
      }
    },
    {
      "cell_type": "markdown",
      "source": [
        "### **Čiščenje podatkov**"
      ],
      "metadata": {
        "id": "lYZECGfRJbXc"
      }
    },
    {
      "cell_type": "code",
      "source": [
        "data = data[~data.apply(lambda row: row.astype(str).str.contains('\\?').any(), axis=1)]\n",
        "\n",
        "\n",
        "\n"
      ],
      "metadata": {
        "id": "kFqAWCVvJI4A"
      },
      "execution_count": 4,
      "outputs": []
    },
    {
      "cell_type": "markdown",
      "source": [
        "### **Razdelitev podatkov na X in Y**"
      ],
      "metadata": {
        "id": "j1w02PCFkETw"
      }
    },
    {
      "cell_type": "code",
      "source": [
        "y = data[' diagnosis']\n",
        "print(y)"
      ],
      "metadata": {
        "colab": {
          "base_uri": "https://localhost:8080/"
        },
        "id": "XMEl5xnGkdh7",
        "outputId": "a80f107d-35d5-4513-d7f7-05d06456b952"
      },
      "execution_count": 5,
      "outputs": [
        {
          "output_type": "stream",
          "name": "stdout",
          "text": [
            "0      0\n",
            "1      2\n",
            "2      1\n",
            "3      0\n",
            "4      0\n",
            "      ..\n",
            "297    1\n",
            "298    1\n",
            "299    2\n",
            "300    3\n",
            "301    1\n",
            "Name:  diagnosis, Length: 297, dtype: int64\n"
          ]
        }
      ]
    },
    {
      "cell_type": "code",
      "source": [
        "x = data.drop(' diagnosis', axis = 1 )\n",
        "print(x)"
      ],
      "metadata": {
        "colab": {
          "base_uri": "https://localhost:8080/"
        },
        "id": "mGebLRGWmcKW",
        "outputId": "367bd568-c7de-41bf-a342-787c0b84c94d"
      },
      "execution_count": 6,
      "outputs": [
        {
          "output_type": "stream",
          "name": "stdout",
          "text": [
            "     age   sex   cp   trestbps   chol   fbs   restecg   thalach   exang  \\\n",
            "0     63     1    1        145    233     1         2       150       0   \n",
            "1     67     1    4        160    286     0         2       108       1   \n",
            "2     67     1    4        120    229     0         2       129       1   \n",
            "3     37     1    3        130    250     0         0       187       0   \n",
            "4     41     0    2        130    204     0         2       172       0   \n",
            "..   ...   ...  ...        ...    ...   ...       ...       ...     ...   \n",
            "297   57     0    4        140    241     0         0       123       1   \n",
            "298   45     1    1        110    264     0         0       132       0   \n",
            "299   68     1    4        144    193     1         0       141       0   \n",
            "300   57     1    4        130    131     0         0       115       1   \n",
            "301   57     0    2        130    236     0         2       174       0   \n",
            "\n",
            "      oldpeak   slope   ca  thal  \n",
            "0         2.3       3  0.0   6.0  \n",
            "1         1.5       2  3.0   3.0  \n",
            "2         2.6       2  2.0   7.0  \n",
            "3         3.5       3  0.0   3.0  \n",
            "4         1.4       1  0.0   3.0  \n",
            "..        ...     ...  ...   ...  \n",
            "297       0.2       2  0.0   7.0  \n",
            "298       1.2       2  0.0   7.0  \n",
            "299       3.4       2  2.0   7.0  \n",
            "300       1.2       2  1.0   7.0  \n",
            "301       0.0       2  1.0   3.0  \n",
            "\n",
            "[297 rows x 13 columns]\n"
          ]
        }
      ]
    },
    {
      "cell_type": "markdown",
      "source": [
        "### **Delitev na testno in učno množico**"
      ],
      "metadata": {
        "id": "j9aJJMrVoOx_"
      }
    },
    {
      "cell_type": "code",
      "source": [
        "from sklearn.model_selection import train_test_split\n",
        "\n",
        "x_train, x_test, y_train, y_test = train_test_split(x,y,test_size=0.2, random_state=1)\n"
      ],
      "metadata": {
        "id": "scn1qAYmppps"
      },
      "execution_count": 7,
      "outputs": []
    },
    {
      "cell_type": "code",
      "source": [
        "print(x_train)"
      ],
      "metadata": {
        "colab": {
          "base_uri": "https://localhost:8080/"
        },
        "collapsed": true,
        "id": "ib2taEGZqV5X",
        "outputId": "825c9328-c2b9-470c-bd74-5a02ca0aa494"
      },
      "execution_count": 8,
      "outputs": [
        {
          "output_type": "stream",
          "name": "stdout",
          "text": [
            "     age   sex   cp   trestbps   chol   fbs   restecg   thalach   exang  \\\n",
            "160   46     1    2        101    197     1         0       156       0   \n",
            "108   61     1    4        120    260     0         0       140       1   \n",
            "222   39     0    3         94    199     0         0       179       0   \n",
            "220   41     0    3        112    268     0         2       172       1   \n",
            "39    61     1    3        150    243     1         0       137       1   \n",
            "..   ...   ...  ...        ...    ...   ...       ...       ...     ...   \n",
            "206   58     1    4        128    259     0         2       130       1   \n",
            "258   70     1    2        156    245     0         2       143       0   \n",
            "72    62     1    4        120    267     0         0        99       1   \n",
            "238   49     0    2        134    271     0         0       162       0   \n",
            "37    57     1    4        150    276     0         2       112       1   \n",
            "\n",
            "      oldpeak   slope   ca  thal  \n",
            "160       0.0       1  0.0   7.0  \n",
            "108       3.6       2  1.0   7.0  \n",
            "222       0.0       1  0.0   3.0  \n",
            "220       0.0       1  0.0   3.0  \n",
            "39        1.0       2  0.0   3.0  \n",
            "..        ...     ...  ...   ...  \n",
            "206       3.0       2  2.0   7.0  \n",
            "258       0.0       1  0.0   3.0  \n",
            "72        1.8       2  2.0   7.0  \n",
            "238       0.0       2  0.0   3.0  \n",
            "37        0.6       2  1.0   6.0  \n",
            "\n",
            "[237 rows x 13 columns]\n"
          ]
        }
      ]
    },
    {
      "cell_type": "code",
      "source": [
        "print(y_train)"
      ],
      "metadata": {
        "collapsed": true,
        "colab": {
          "base_uri": "https://localhost:8080/"
        },
        "id": "qA9263krbeDB",
        "outputId": "54d9aa70-83ea-4ce7-abc9-9dff3ddbc6e8"
      },
      "execution_count": null,
      "outputs": [
        {
          "output_type": "stream",
          "name": "stdout",
          "text": [
            "160    0\n",
            "108    2\n",
            "222    0\n",
            "220    0\n",
            "39     0\n",
            "      ..\n",
            "206    3\n",
            "258    0\n",
            "72     1\n",
            "238    0\n",
            "37     1\n",
            "Name:  diagnosis, Length: 237, dtype: int64\n"
          ]
        }
      ]
    },
    {
      "cell_type": "code",
      "source": [
        "print(y_test)"
      ],
      "metadata": {
        "collapsed": true,
        "colab": {
          "base_uri": "https://localhost:8080/"
        },
        "id": "e-gNGc5abmYe",
        "outputId": "8bed1f0a-9512-4f9b-95e1-1cfd4cec3815"
      },
      "execution_count": null,
      "outputs": [
        {
          "output_type": "stream",
          "name": "stdout",
          "text": [
            "139    0\n",
            "236    2\n",
            "51     0\n",
            "295    0\n",
            "245    2\n",
            "247    1\n",
            "276    0\n",
            "62     1\n",
            "27     0\n",
            "123    3\n",
            "111    1\n",
            "118    3\n",
            "11     0\n",
            "188    1\n",
            "109    3\n",
            "187    2\n",
            "299    2\n",
            "128    0\n",
            "267    2\n",
            "73     1\n",
            "106    2\n",
            "12     2\n",
            "140    0\n",
            "18     0\n",
            "289    0\n",
            "227    0\n",
            "301    1\n",
            "231    2\n",
            "182    0\n",
            "221    0\n",
            "242    0\n",
            "237    1\n",
            "85     0\n",
            "91     3\n",
            "174    4\n",
            "173    0\n",
            "216    0\n",
            "147    0\n",
            "89     0\n",
            "189    2\n",
            "4      0\n",
            "194    0\n",
            "178    0\n",
            "248    3\n",
            "291    0\n",
            "16     1\n",
            "70     0\n",
            "243    2\n",
            "58     0\n",
            "92     0\n",
            "172    1\n",
            "275    0\n",
            "158    2\n",
            "59     0\n",
            "183    0\n",
            "213    3\n",
            "191    3\n",
            "155    1\n",
            "151    0\n",
            "228    3\n",
            "Name:  diagnosis, dtype: int64\n"
          ]
        }
      ]
    },
    {
      "cell_type": "code",
      "source": [
        "print(x_test)"
      ],
      "metadata": {
        "colab": {
          "base_uri": "https://localhost:8080/"
        },
        "collapsed": true,
        "id": "YymovLNLqkZo",
        "outputId": "24516976-ae65-46e8-f5d7-94551d167d51"
      },
      "execution_count": null,
      "outputs": [
        {
          "output_type": "stream",
          "name": "stdout",
          "text": [
            "     Age   G  GS    MP   FG   FGA    FG%   3P  3PA    3P%  ...  FTA    FT%  \\\n",
            "403   34  46  46  34.8  5.7  13.0  0.436  2.8  7.2  0.396  ...  3.5  0.875   \n",
            "486   22  45  19  25.2  3.0   7.2  0.417  1.1  3.1  0.348  ...  0.9  0.750   \n",
            "689   24  35   1  12.4  1.9   4.8  0.405  0.9  2.5  0.345  ...  0.7  0.680   \n",
            "381   25  58  58  35.1  9.8  19.4  0.507  3.4  8.2  0.419  ...  5.1  0.849   \n",
            "559   28  15   5  26.9  3.1   7.3  0.418  1.8  4.8  0.375  ...  1.1  0.706   \n",
            "..   ...  ..  ..   ...  ...   ...    ...  ...  ...    ...  ...  ...    ...   \n",
            "71    24  67  67  33.9  9.3  19.2  0.484  1.9  5.5  0.340  ...  5.9  0.867   \n",
            "231   25  50  50  27.7  4.6  10.0  0.463  1.2  3.5  0.335  ...  3.0  0.651   \n",
            "302   20  65   4  20.1  3.4   7.5  0.458  0.6  2.0  0.282  ...  2.0  0.775   \n",
            "423   34  58  10  19.5  1.5   4.3  0.353  1.1  3.4  0.335  ...  0.7  0.854   \n",
            "415   25  53   3  15.4  1.8   4.8  0.375  0.6  2.4  0.248  ...  1.2  0.641   \n",
            "\n",
            "     ORB  DRB  TRB  AST  STL  BLK  TOV   PF  \n",
            "403  0.8  4.6  5.4  7.3  1.0  0.3  2.7  3.1  \n",
            "486  0.9  3.1  4.0  2.2  1.1  0.5  0.8  1.1  \n",
            "689  0.6  2.6  3.2  0.7  0.3  0.5  0.6  1.3  \n",
            "381  0.6  4.4  5.0  4.9  0.8  0.5  3.5  2.4  \n",
            "559  0.2  2.1  2.3  2.6  1.2  0.1  0.9  2.1  \n",
            "..   ...  ...  ...  ...  ...  ...  ...  ...  \n",
            "71   0.5  3.7  4.2  4.3  0.8  0.2  3.1  2.7  \n",
            "231  1.5  4.1  5.7  3.2  0.7  0.7  1.9  1.8  \n",
            "302  0.4  2.2  2.6  2.8  1.0  0.3  1.6  2.0  \n",
            "423  0.3  1.3  1.6  0.9  0.7  0.3  0.4  1.4  \n",
            "415  0.6  2.1  2.7  1.3  0.7  0.2  0.6  1.2  \n",
            "\n",
            "[130 rows x 25 columns]\n"
          ]
        }
      ]
    },
    {
      "cell_type": "markdown",
      "source": [
        "### **Gradnja modela**"
      ],
      "metadata": {
        "id": "aThqe3NtvVR-"
      }
    },
    {
      "cell_type": "markdown",
      "source": [
        "### **Odlocitveno_drevo**"
      ],
      "metadata": {
        "id": "Lhp98QuIvkBj"
      }
    },
    {
      "cell_type": "code",
      "source": [
        "from sklearn.tree import DecisionTreeClassifier\n",
        "from sklearn.metrics import accuracy_score\n",
        "import matplotlib.pyplot as plt\n",
        "from sklearn import tree\n",
        "from sklearn.metrics import accuracy_score, precision_score, recall_score, f1_score\n",
        "\n",
        "\n",
        "dtc = DecisionTreeClassifier(random_state=0)\n",
        "\n",
        "dtc.fit(x_train, y_train)\n",
        "\n",
        "dtc_pred = dtc.predict(x_test)\n",
        "\n",
        "\n",
        "\n",
        "accuracy = accuracy_score(y_test, dtc_pred)\n",
        "\n",
        "precision = precision_score(y_test, dtc_pred, average=\"weighted\")\n",
        "\n",
        "recall = recall_score(y_test, dtc_pred, average=\"weighted\")\n",
        "\n",
        "f1 = f1_score(y_test, dtc_pred, average=\"weighted\")\n",
        "\n",
        "\n",
        "dtc_result = pd.DataFrame(['Odlocitveno drevo',accuracy,precision, recall, f1]).transpose()\n",
        "dtc_result.columns = ['Metoda','Natančnost', 'Preciznost','Recall', 'F1']\n",
        "\n",
        "dtc_result\n"
      ],
      "metadata": {
        "colab": {
          "base_uri": "https://localhost:8080/",
          "height": 81
        },
        "id": "OlwPIw0N0xLJ",
        "outputId": "d4196950-12f6-4248-bd8a-c941eeaead03"
      },
      "execution_count": 9,
      "outputs": [
        {
          "output_type": "execute_result",
          "data": {
            "text/plain": [
              "              Metoda Natančnost Preciznost    Recall        F1\n",
              "0  Odlocitveno drevo   0.516667   0.513763  0.516667  0.513955"
            ],
            "text/html": [
              "\n",
              "  <div id=\"df-18e3a396-e7dc-4cdf-b676-7d8390419894\" class=\"colab-df-container\">\n",
              "    <div>\n",
              "<style scoped>\n",
              "    .dataframe tbody tr th:only-of-type {\n",
              "        vertical-align: middle;\n",
              "    }\n",
              "\n",
              "    .dataframe tbody tr th {\n",
              "        vertical-align: top;\n",
              "    }\n",
              "\n",
              "    .dataframe thead th {\n",
              "        text-align: right;\n",
              "    }\n",
              "</style>\n",
              "<table border=\"1\" class=\"dataframe\">\n",
              "  <thead>\n",
              "    <tr style=\"text-align: right;\">\n",
              "      <th></th>\n",
              "      <th>Metoda</th>\n",
              "      <th>Natančnost</th>\n",
              "      <th>Preciznost</th>\n",
              "      <th>Recall</th>\n",
              "      <th>F1</th>\n",
              "    </tr>\n",
              "  </thead>\n",
              "  <tbody>\n",
              "    <tr>\n",
              "      <th>0</th>\n",
              "      <td>Odlocitveno drevo</td>\n",
              "      <td>0.516667</td>\n",
              "      <td>0.513763</td>\n",
              "      <td>0.516667</td>\n",
              "      <td>0.513955</td>\n",
              "    </tr>\n",
              "  </tbody>\n",
              "</table>\n",
              "</div>\n",
              "    <div class=\"colab-df-buttons\">\n",
              "\n",
              "  <div class=\"colab-df-container\">\n",
              "    <button class=\"colab-df-convert\" onclick=\"convertToInteractive('df-18e3a396-e7dc-4cdf-b676-7d8390419894')\"\n",
              "            title=\"Convert this dataframe to an interactive table.\"\n",
              "            style=\"display:none;\">\n",
              "\n",
              "  <svg xmlns=\"http://www.w3.org/2000/svg\" height=\"24px\" viewBox=\"0 -960 960 960\">\n",
              "    <path d=\"M120-120v-720h720v720H120Zm60-500h600v-160H180v160Zm220 220h160v-160H400v160Zm0 220h160v-160H400v160ZM180-400h160v-160H180v160Zm440 0h160v-160H620v160ZM180-180h160v-160H180v160Zm440 0h160v-160H620v160Z\"/>\n",
              "  </svg>\n",
              "    </button>\n",
              "\n",
              "  <style>\n",
              "    .colab-df-container {\n",
              "      display:flex;\n",
              "      gap: 12px;\n",
              "    }\n",
              "\n",
              "    .colab-df-convert {\n",
              "      background-color: #E8F0FE;\n",
              "      border: none;\n",
              "      border-radius: 50%;\n",
              "      cursor: pointer;\n",
              "      display: none;\n",
              "      fill: #1967D2;\n",
              "      height: 32px;\n",
              "      padding: 0 0 0 0;\n",
              "      width: 32px;\n",
              "    }\n",
              "\n",
              "    .colab-df-convert:hover {\n",
              "      background-color: #E2EBFA;\n",
              "      box-shadow: 0px 1px 2px rgba(60, 64, 67, 0.3), 0px 1px 3px 1px rgba(60, 64, 67, 0.15);\n",
              "      fill: #174EA6;\n",
              "    }\n",
              "\n",
              "    .colab-df-buttons div {\n",
              "      margin-bottom: 4px;\n",
              "    }\n",
              "\n",
              "    [theme=dark] .colab-df-convert {\n",
              "      background-color: #3B4455;\n",
              "      fill: #D2E3FC;\n",
              "    }\n",
              "\n",
              "    [theme=dark] .colab-df-convert:hover {\n",
              "      background-color: #434B5C;\n",
              "      box-shadow: 0px 1px 3px 1px rgba(0, 0, 0, 0.15);\n",
              "      filter: drop-shadow(0px 1px 2px rgba(0, 0, 0, 0.3));\n",
              "      fill: #FFFFFF;\n",
              "    }\n",
              "  </style>\n",
              "\n",
              "    <script>\n",
              "      const buttonEl =\n",
              "        document.querySelector('#df-18e3a396-e7dc-4cdf-b676-7d8390419894 button.colab-df-convert');\n",
              "      buttonEl.style.display =\n",
              "        google.colab.kernel.accessAllowed ? 'block' : 'none';\n",
              "\n",
              "      async function convertToInteractive(key) {\n",
              "        const element = document.querySelector('#df-18e3a396-e7dc-4cdf-b676-7d8390419894');\n",
              "        const dataTable =\n",
              "          await google.colab.kernel.invokeFunction('convertToInteractive',\n",
              "                                                    [key], {});\n",
              "        if (!dataTable) return;\n",
              "\n",
              "        const docLinkHtml = 'Like what you see? Visit the ' +\n",
              "          '<a target=\"_blank\" href=https://colab.research.google.com/notebooks/data_table.ipynb>data table notebook</a>'\n",
              "          + ' to learn more about interactive tables.';\n",
              "        element.innerHTML = '';\n",
              "        dataTable['output_type'] = 'display_data';\n",
              "        await google.colab.output.renderOutput(dataTable, element);\n",
              "        const docLink = document.createElement('div');\n",
              "        docLink.innerHTML = docLinkHtml;\n",
              "        element.appendChild(docLink);\n",
              "      }\n",
              "    </script>\n",
              "  </div>\n",
              "\n",
              "    </div>\n",
              "  </div>\n"
            ],
            "application/vnd.google.colaboratory.intrinsic+json": {
              "type": "dataframe",
              "variable_name": "dtc_result",
              "summary": "{\n  \"name\": \"dtc_result\",\n  \"rows\": 1,\n  \"fields\": [\n    {\n      \"column\": \"Metoda\",\n      \"properties\": {\n        \"dtype\": \"string\",\n        \"num_unique_values\": 1,\n        \"samples\": [\n          \"Odlocitveno drevo\"\n        ],\n        \"semantic_type\": \"\",\n        \"description\": \"\"\n      }\n    },\n    {\n      \"column\": \"Natan\\u010dnost\",\n      \"properties\": {\n        \"dtype\": \"date\",\n        \"min\": 0.5166666666666667,\n        \"max\": 0.5166666666666667,\n        \"num_unique_values\": 1,\n        \"samples\": [\n          0.5166666666666667\n        ],\n        \"semantic_type\": \"\",\n        \"description\": \"\"\n      }\n    },\n    {\n      \"column\": \"Preciznost\",\n      \"properties\": {\n        \"dtype\": \"date\",\n        \"min\": 0.5137634408602151,\n        \"max\": 0.5137634408602151,\n        \"num_unique_values\": 1,\n        \"samples\": [\n          0.5137634408602151\n        ],\n        \"semantic_type\": \"\",\n        \"description\": \"\"\n      }\n    },\n    {\n      \"column\": \"Recall\",\n      \"properties\": {\n        \"dtype\": \"date\",\n        \"min\": 0.5166666666666667,\n        \"max\": 0.5166666666666667,\n        \"num_unique_values\": 1,\n        \"samples\": [\n          0.5166666666666667\n        ],\n        \"semantic_type\": \"\",\n        \"description\": \"\"\n      }\n    },\n    {\n      \"column\": \"F1\",\n      \"properties\": {\n        \"dtype\": \"date\",\n        \"min\": 0.5139554434636401,\n        \"max\": 0.5139554434636401,\n        \"num_unique_values\": 1,\n        \"samples\": [\n          0.5139554434636401\n        ],\n        \"semantic_type\": \"\",\n        \"description\": \"\"\n      }\n    }\n  ]\n}"
            }
          },
          "metadata": {},
          "execution_count": 9
        }
      ]
    },
    {
      "cell_type": "markdown",
      "source": [
        "### **KNN**"
      ],
      "metadata": {
        "id": "gqYHQ7gCvw-8"
      }
    },
    {
      "cell_type": "code",
      "source": [
        "from sklearn.neighbors import KNeighborsClassifier\n",
        "from sklearn.metrics import accuracy_score, precision_score, recall_score, f1_score\n",
        "import pandas as pd\n",
        "\n",
        "\n",
        "knn = KNeighborsClassifier(n_neighbors=3)\n",
        "\n",
        "\n",
        "knn.fit(x_train, y_train)\n",
        "\n",
        "\n",
        "knn_pred = knn.predict(x_test)\n",
        "\n",
        "\n",
        "accuracy = accuracy_score(y_test, knn_pred)\n",
        "precision = precision_score(y_test, knn_pred, average=\"weighted\")\n",
        "recall = recall_score(y_test, knn_pred, average=\"weighted\")\n",
        "f1 = f1_score(y_test, knn_pred, average=\"weighted\")\n",
        "\n",
        "\n",
        "knn_result = pd.DataFrame(['K najbližjih sosedov', accuracy, precision, recall, f1]).transpose()\n",
        "knn_result.columns = ['Metoda', 'Natančnost', 'Preciznost', 'Recall', 'F1']\n",
        "\n",
        "\n",
        "knn_result\n"
      ],
      "metadata": {
        "colab": {
          "base_uri": "https://localhost:8080/",
          "height": 81
        },
        "id": "HMVzC-GYQzbl",
        "outputId": "1d341f69-1202-477a-ef5f-4cda75d47b69"
      },
      "execution_count": 10,
      "outputs": [
        {
          "output_type": "execute_result",
          "data": {
            "text/plain": [
              "                 Metoda Natančnost Preciznost Recall        F1\n",
              "0  K najbližjih sosedov       0.45   0.311111   0.45  0.366667"
            ],
            "text/html": [
              "\n",
              "  <div id=\"df-fdd5e409-28e3-4f0f-9589-e2a470bfa44f\" class=\"colab-df-container\">\n",
              "    <div>\n",
              "<style scoped>\n",
              "    .dataframe tbody tr th:only-of-type {\n",
              "        vertical-align: middle;\n",
              "    }\n",
              "\n",
              "    .dataframe tbody tr th {\n",
              "        vertical-align: top;\n",
              "    }\n",
              "\n",
              "    .dataframe thead th {\n",
              "        text-align: right;\n",
              "    }\n",
              "</style>\n",
              "<table border=\"1\" class=\"dataframe\">\n",
              "  <thead>\n",
              "    <tr style=\"text-align: right;\">\n",
              "      <th></th>\n",
              "      <th>Metoda</th>\n",
              "      <th>Natančnost</th>\n",
              "      <th>Preciznost</th>\n",
              "      <th>Recall</th>\n",
              "      <th>F1</th>\n",
              "    </tr>\n",
              "  </thead>\n",
              "  <tbody>\n",
              "    <tr>\n",
              "      <th>0</th>\n",
              "      <td>K najbližjih sosedov</td>\n",
              "      <td>0.45</td>\n",
              "      <td>0.311111</td>\n",
              "      <td>0.45</td>\n",
              "      <td>0.366667</td>\n",
              "    </tr>\n",
              "  </tbody>\n",
              "</table>\n",
              "</div>\n",
              "    <div class=\"colab-df-buttons\">\n",
              "\n",
              "  <div class=\"colab-df-container\">\n",
              "    <button class=\"colab-df-convert\" onclick=\"convertToInteractive('df-fdd5e409-28e3-4f0f-9589-e2a470bfa44f')\"\n",
              "            title=\"Convert this dataframe to an interactive table.\"\n",
              "            style=\"display:none;\">\n",
              "\n",
              "  <svg xmlns=\"http://www.w3.org/2000/svg\" height=\"24px\" viewBox=\"0 -960 960 960\">\n",
              "    <path d=\"M120-120v-720h720v720H120Zm60-500h600v-160H180v160Zm220 220h160v-160H400v160Zm0 220h160v-160H400v160ZM180-400h160v-160H180v160Zm440 0h160v-160H620v160ZM180-180h160v-160H180v160Zm440 0h160v-160H620v160Z\"/>\n",
              "  </svg>\n",
              "    </button>\n",
              "\n",
              "  <style>\n",
              "    .colab-df-container {\n",
              "      display:flex;\n",
              "      gap: 12px;\n",
              "    }\n",
              "\n",
              "    .colab-df-convert {\n",
              "      background-color: #E8F0FE;\n",
              "      border: none;\n",
              "      border-radius: 50%;\n",
              "      cursor: pointer;\n",
              "      display: none;\n",
              "      fill: #1967D2;\n",
              "      height: 32px;\n",
              "      padding: 0 0 0 0;\n",
              "      width: 32px;\n",
              "    }\n",
              "\n",
              "    .colab-df-convert:hover {\n",
              "      background-color: #E2EBFA;\n",
              "      box-shadow: 0px 1px 2px rgba(60, 64, 67, 0.3), 0px 1px 3px 1px rgba(60, 64, 67, 0.15);\n",
              "      fill: #174EA6;\n",
              "    }\n",
              "\n",
              "    .colab-df-buttons div {\n",
              "      margin-bottom: 4px;\n",
              "    }\n",
              "\n",
              "    [theme=dark] .colab-df-convert {\n",
              "      background-color: #3B4455;\n",
              "      fill: #D2E3FC;\n",
              "    }\n",
              "\n",
              "    [theme=dark] .colab-df-convert:hover {\n",
              "      background-color: #434B5C;\n",
              "      box-shadow: 0px 1px 3px 1px rgba(0, 0, 0, 0.15);\n",
              "      filter: drop-shadow(0px 1px 2px rgba(0, 0, 0, 0.3));\n",
              "      fill: #FFFFFF;\n",
              "    }\n",
              "  </style>\n",
              "\n",
              "    <script>\n",
              "      const buttonEl =\n",
              "        document.querySelector('#df-fdd5e409-28e3-4f0f-9589-e2a470bfa44f button.colab-df-convert');\n",
              "      buttonEl.style.display =\n",
              "        google.colab.kernel.accessAllowed ? 'block' : 'none';\n",
              "\n",
              "      async function convertToInteractive(key) {\n",
              "        const element = document.querySelector('#df-fdd5e409-28e3-4f0f-9589-e2a470bfa44f');\n",
              "        const dataTable =\n",
              "          await google.colab.kernel.invokeFunction('convertToInteractive',\n",
              "                                                    [key], {});\n",
              "        if (!dataTable) return;\n",
              "\n",
              "        const docLinkHtml = 'Like what you see? Visit the ' +\n",
              "          '<a target=\"_blank\" href=https://colab.research.google.com/notebooks/data_table.ipynb>data table notebook</a>'\n",
              "          + ' to learn more about interactive tables.';\n",
              "        element.innerHTML = '';\n",
              "        dataTable['output_type'] = 'display_data';\n",
              "        await google.colab.output.renderOutput(dataTable, element);\n",
              "        const docLink = document.createElement('div');\n",
              "        docLink.innerHTML = docLinkHtml;\n",
              "        element.appendChild(docLink);\n",
              "      }\n",
              "    </script>\n",
              "  </div>\n",
              "\n",
              "    </div>\n",
              "  </div>\n"
            ],
            "application/vnd.google.colaboratory.intrinsic+json": {
              "type": "dataframe",
              "variable_name": "knn_result",
              "summary": "{\n  \"name\": \"knn_result\",\n  \"rows\": 1,\n  \"fields\": [\n    {\n      \"column\": \"Metoda\",\n      \"properties\": {\n        \"dtype\": \"string\",\n        \"num_unique_values\": 1,\n        \"samples\": [\n          \"K najbli\\u017ejih sosedov\"\n        ],\n        \"semantic_type\": \"\",\n        \"description\": \"\"\n      }\n    },\n    {\n      \"column\": \"Natan\\u010dnost\",\n      \"properties\": {\n        \"dtype\": \"date\",\n        \"min\": 0.45,\n        \"max\": 0.45,\n        \"num_unique_values\": 1,\n        \"samples\": [\n          0.45\n        ],\n        \"semantic_type\": \"\",\n        \"description\": \"\"\n      }\n    },\n    {\n      \"column\": \"Preciznost\",\n      \"properties\": {\n        \"dtype\": \"date\",\n        \"min\": 0.3111111111111111,\n        \"max\": 0.3111111111111111,\n        \"num_unique_values\": 1,\n        \"samples\": [\n          0.3111111111111111\n        ],\n        \"semantic_type\": \"\",\n        \"description\": \"\"\n      }\n    },\n    {\n      \"column\": \"Recall\",\n      \"properties\": {\n        \"dtype\": \"date\",\n        \"min\": 0.45,\n        \"max\": 0.45,\n        \"num_unique_values\": 1,\n        \"samples\": [\n          0.45\n        ],\n        \"semantic_type\": \"\",\n        \"description\": \"\"\n      }\n    },\n    {\n      \"column\": \"F1\",\n      \"properties\": {\n        \"dtype\": \"date\",\n        \"min\": 0.36666666666666675,\n        \"max\": 0.36666666666666675,\n        \"num_unique_values\": 1,\n        \"samples\": [\n          0.36666666666666675\n        ],\n        \"semantic_type\": \"\",\n        \"description\": \"\"\n      }\n    }\n  ]\n}"
            }
          },
          "metadata": {},
          "execution_count": 10
        }
      ]
    },
    {
      "cell_type": "markdown",
      "source": [],
      "metadata": {
        "id": "ITiIg-fRZ-Pv"
      }
    },
    {
      "cell_type": "markdown",
      "source": [
        "## **Naivni Bayes**"
      ],
      "metadata": {
        "id": "ZcuHmJwtaBe3"
      }
    },
    {
      "cell_type": "code",
      "source": [
        "\n",
        "from sklearn.naive_bayes import GaussianNB\n",
        "from sklearn.metrics import accuracy_score, precision_score, recall_score, f1_score\n",
        "import pandas as pd\n",
        "\n",
        "\n",
        "gnb = GaussianNB()\n",
        "\n",
        "\n",
        "gnb.fit(x_train, y_train)\n",
        "\n",
        "\n",
        "gnb_pred = gnb.predict(x_test)\n",
        "\n",
        "\n",
        "accuracy = accuracy_score(y_test, gnb_pred)\n",
        "precision = precision_score(y_test, gnb_pred, average=\"weighted\")\n",
        "recall = recall_score(y_test, gnb_pred, average=\"weighted\")\n",
        "f1 = f1_score(y_test, gnb_pred, average=\"weighted\")\n",
        "\n",
        "\n",
        "bay_result = pd.DataFrame(['Gaussov Naivni Bayes', accuracy, precision, recall, f1]).transpose()\n",
        "bay_result.columns = ['Metoda', 'Natančnost', 'Preciznost', 'Recall', 'F1']\n",
        "\n",
        "\n",
        "bay_result\n"
      ],
      "metadata": {
        "colab": {
          "base_uri": "https://localhost:8080/",
          "height": 81
        },
        "id": "EtbTCsaxa7W0",
        "outputId": "6d1b840c-f248-47f6-a402-564353892b7f"
      },
      "execution_count": 11,
      "outputs": [
        {
          "output_type": "execute_result",
          "data": {
            "text/plain": [
              "                 Metoda Natančnost Preciznost    Recall        F1\n",
              "0  Gaussov Naivni Bayes   0.533333   0.549048  0.533333  0.538971"
            ],
            "text/html": [
              "\n",
              "  <div id=\"df-52612189-3faa-4bf7-b4b5-85919b03a5ed\" class=\"colab-df-container\">\n",
              "    <div>\n",
              "<style scoped>\n",
              "    .dataframe tbody tr th:only-of-type {\n",
              "        vertical-align: middle;\n",
              "    }\n",
              "\n",
              "    .dataframe tbody tr th {\n",
              "        vertical-align: top;\n",
              "    }\n",
              "\n",
              "    .dataframe thead th {\n",
              "        text-align: right;\n",
              "    }\n",
              "</style>\n",
              "<table border=\"1\" class=\"dataframe\">\n",
              "  <thead>\n",
              "    <tr style=\"text-align: right;\">\n",
              "      <th></th>\n",
              "      <th>Metoda</th>\n",
              "      <th>Natančnost</th>\n",
              "      <th>Preciznost</th>\n",
              "      <th>Recall</th>\n",
              "      <th>F1</th>\n",
              "    </tr>\n",
              "  </thead>\n",
              "  <tbody>\n",
              "    <tr>\n",
              "      <th>0</th>\n",
              "      <td>Gaussov Naivni Bayes</td>\n",
              "      <td>0.533333</td>\n",
              "      <td>0.549048</td>\n",
              "      <td>0.533333</td>\n",
              "      <td>0.538971</td>\n",
              "    </tr>\n",
              "  </tbody>\n",
              "</table>\n",
              "</div>\n",
              "    <div class=\"colab-df-buttons\">\n",
              "\n",
              "  <div class=\"colab-df-container\">\n",
              "    <button class=\"colab-df-convert\" onclick=\"convertToInteractive('df-52612189-3faa-4bf7-b4b5-85919b03a5ed')\"\n",
              "            title=\"Convert this dataframe to an interactive table.\"\n",
              "            style=\"display:none;\">\n",
              "\n",
              "  <svg xmlns=\"http://www.w3.org/2000/svg\" height=\"24px\" viewBox=\"0 -960 960 960\">\n",
              "    <path d=\"M120-120v-720h720v720H120Zm60-500h600v-160H180v160Zm220 220h160v-160H400v160Zm0 220h160v-160H400v160ZM180-400h160v-160H180v160Zm440 0h160v-160H620v160ZM180-180h160v-160H180v160Zm440 0h160v-160H620v160Z\"/>\n",
              "  </svg>\n",
              "    </button>\n",
              "\n",
              "  <style>\n",
              "    .colab-df-container {\n",
              "      display:flex;\n",
              "      gap: 12px;\n",
              "    }\n",
              "\n",
              "    .colab-df-convert {\n",
              "      background-color: #E8F0FE;\n",
              "      border: none;\n",
              "      border-radius: 50%;\n",
              "      cursor: pointer;\n",
              "      display: none;\n",
              "      fill: #1967D2;\n",
              "      height: 32px;\n",
              "      padding: 0 0 0 0;\n",
              "      width: 32px;\n",
              "    }\n",
              "\n",
              "    .colab-df-convert:hover {\n",
              "      background-color: #E2EBFA;\n",
              "      box-shadow: 0px 1px 2px rgba(60, 64, 67, 0.3), 0px 1px 3px 1px rgba(60, 64, 67, 0.15);\n",
              "      fill: #174EA6;\n",
              "    }\n",
              "\n",
              "    .colab-df-buttons div {\n",
              "      margin-bottom: 4px;\n",
              "    }\n",
              "\n",
              "    [theme=dark] .colab-df-convert {\n",
              "      background-color: #3B4455;\n",
              "      fill: #D2E3FC;\n",
              "    }\n",
              "\n",
              "    [theme=dark] .colab-df-convert:hover {\n",
              "      background-color: #434B5C;\n",
              "      box-shadow: 0px 1px 3px 1px rgba(0, 0, 0, 0.15);\n",
              "      filter: drop-shadow(0px 1px 2px rgba(0, 0, 0, 0.3));\n",
              "      fill: #FFFFFF;\n",
              "    }\n",
              "  </style>\n",
              "\n",
              "    <script>\n",
              "      const buttonEl =\n",
              "        document.querySelector('#df-52612189-3faa-4bf7-b4b5-85919b03a5ed button.colab-df-convert');\n",
              "      buttonEl.style.display =\n",
              "        google.colab.kernel.accessAllowed ? 'block' : 'none';\n",
              "\n",
              "      async function convertToInteractive(key) {\n",
              "        const element = document.querySelector('#df-52612189-3faa-4bf7-b4b5-85919b03a5ed');\n",
              "        const dataTable =\n",
              "          await google.colab.kernel.invokeFunction('convertToInteractive',\n",
              "                                                    [key], {});\n",
              "        if (!dataTable) return;\n",
              "\n",
              "        const docLinkHtml = 'Like what you see? Visit the ' +\n",
              "          '<a target=\"_blank\" href=https://colab.research.google.com/notebooks/data_table.ipynb>data table notebook</a>'\n",
              "          + ' to learn more about interactive tables.';\n",
              "        element.innerHTML = '';\n",
              "        dataTable['output_type'] = 'display_data';\n",
              "        await google.colab.output.renderOutput(dataTable, element);\n",
              "        const docLink = document.createElement('div');\n",
              "        docLink.innerHTML = docLinkHtml;\n",
              "        element.appendChild(docLink);\n",
              "      }\n",
              "    </script>\n",
              "  </div>\n",
              "\n",
              "    </div>\n",
              "  </div>\n"
            ],
            "application/vnd.google.colaboratory.intrinsic+json": {
              "type": "dataframe",
              "variable_name": "bay_result",
              "summary": "{\n  \"name\": \"bay_result\",\n  \"rows\": 1,\n  \"fields\": [\n    {\n      \"column\": \"Metoda\",\n      \"properties\": {\n        \"dtype\": \"string\",\n        \"num_unique_values\": 1,\n        \"samples\": [\n          \"Gaussov Naivni Bayes\"\n        ],\n        \"semantic_type\": \"\",\n        \"description\": \"\"\n      }\n    },\n    {\n      \"column\": \"Natan\\u010dnost\",\n      \"properties\": {\n        \"dtype\": \"date\",\n        \"min\": 0.5333333333333333,\n        \"max\": 0.5333333333333333,\n        \"num_unique_values\": 1,\n        \"samples\": [\n          0.5333333333333333\n        ],\n        \"semantic_type\": \"\",\n        \"description\": \"\"\n      }\n    },\n    {\n      \"column\": \"Preciznost\",\n      \"properties\": {\n        \"dtype\": \"date\",\n        \"min\": 0.549047619047619,\n        \"max\": 0.549047619047619,\n        \"num_unique_values\": 1,\n        \"samples\": [\n          0.549047619047619\n        ],\n        \"semantic_type\": \"\",\n        \"description\": \"\"\n      }\n    },\n    {\n      \"column\": \"Recall\",\n      \"properties\": {\n        \"dtype\": \"date\",\n        \"min\": 0.5333333333333333,\n        \"max\": 0.5333333333333333,\n        \"num_unique_values\": 1,\n        \"samples\": [\n          0.5333333333333333\n        ],\n        \"semantic_type\": \"\",\n        \"description\": \"\"\n      }\n    },\n    {\n      \"column\": \"F1\",\n      \"properties\": {\n        \"dtype\": \"date\",\n        \"min\": 0.5389709906951285,\n        \"max\": 0.5389709906951285,\n        \"num_unique_values\": 1,\n        \"samples\": [\n          0.5389709906951285\n        ],\n        \"semantic_type\": \"\",\n        \"description\": \"\"\n      }\n    }\n  ]\n}"
            }
          },
          "metadata": {},
          "execution_count": 11
        }
      ]
    },
    {
      "cell_type": "markdown",
      "source": [
        "## **Vizualizacija podatkov**"
      ],
      "metadata": {
        "id": "QnB0LTI9dRxl"
      }
    },
    {
      "cell_type": "code",
      "source": [
        "import matplotlib.pyplot as plt\n",
        "from sklearn.neighbors import KNeighborsClassifier\n",
        "from sklearn.metrics import accuracy_score, precision_score, recall_score, f1_score\n",
        "import pandas as pd\n",
        "\n",
        "\n",
        "\n",
        "\n",
        "\n",
        "plt.figure(figsize=(10, 5))\n",
        "plt.scatter(x=y_test, y=gnb_pred, alpha=1, c='blue', label='Pričakovanja vs. Dejanske vrednosti')\n",
        "plt.title('Primerjava dejanskih in pričakovanih vrednosti')\n",
        "plt.xlabel('Dejanske vrednosti')\n",
        "plt.ylabel('Pričakovane vrednosti')\n",
        "plt.plot([min(y_test), max(y_test)], [min(y_test), max(y_test)], color='red', linestyle='--')\n",
        "plt.legend()\n",
        "plt.grid(True)\n",
        "plt.show()\n",
        "\n",
        "\n",
        "print(\"Natančnost of KNN:\", accuracy_score(y_test, knn_pred))\n"
      ],
      "metadata": {
        "colab": {
          "base_uri": "https://localhost:8080/",
          "height": 505
        },
        "id": "jTK5XsgQdW9W",
        "outputId": "b564aade-3970-4f96-dcd0-4f33e267dc79"
      },
      "execution_count": 12,
      "outputs": [
        {
          "output_type": "display_data",
          "data": {
            "text/plain": [
              "<Figure size 1000x500 with 1 Axes>"
            ],
            "image/png": "[encoded data removed]"
          },
          "metadata": {}
        },
        {
          "output_type": "stream",
          "name": "stdout",
          "text": [
            "Natančnost of KNN: 0.45\n"
          ]
        }
      ]
    },
    {
      "cell_type": "code",
      "source": [
        "import matplotlib.pyplot as plt\n",
        "from sklearn.neighbors import KNeighborsClassifier\n",
        "from sklearn.metrics import accuracy_score, precision_score, recall_score, f1_score\n",
        "import pandas as pd\n",
        "\n",
        "plt.figure(figsize=(10, 5))\n",
        "plt.scatter(x=y_test, y=knn_pred, alpha=1, c='blue', label='Pričakovanja vs. Dejanske vrednosti')\n",
        "plt.title('Primerjava dejanskih in pričakovanih vrednosti')\n",
        "plt.xlabel('Dejanske vrednosti')\n",
        "plt.ylabel('Pričakovane vrednosti')\n",
        "plt.plot([min(y_test), max(y_test)], [min(y_test), max(y_test)], color='red', linestyle='--')\n",
        "plt.legend()\n",
        "plt.grid(True)\n",
        "plt.show()\n"
      ],
      "metadata": {
        "colab": {
          "base_uri": "https://localhost:8080/",
          "height": 488
        },
        "id": "bFxyz26GHETL",
        "outputId": "3f6f60dc-4a69-4809-8648-781659cd6ba4"
      },
      "execution_count": 13,
      "outputs": [
        {
          "output_type": "display_data",
          "data": {
            "text/plain": [
              "<Figure size 1000x500 with 1 Axes>"
            ],
            "image/png": "[encoded data removed]"
          },
          "metadata": {}
        }
      ]
    },
    {
      "cell_type": "code",
      "source": [
        "import matplotlib.pyplot as plt\n",
        "from sklearn.neighbors import KNeighborsClassifier\n",
        "from sklearn.metrics import accuracy_score, precision_score, recall_score, f1_score\n",
        "import pandas as pd\n",
        "\n",
        "plt.figure(figsize=(10, 5))\n",
        "plt.scatter(x=y_test, y=dtc_pred, alpha=1, c='blue', label='Pričakovanja vs. Dejanske vrednosti')\n",
        "plt.title('Primerjava dejanskih in pričakovanih vrednosti')\n",
        "plt.xlabel('Dejanske vrednosti')\n",
        "plt.ylabel('Pričakovane vrednosti')\n",
        "plt.plot([min(y_test), max(y_test)], [min(y_test), max(y_test)], color='red', linestyle='--')\n",
        "plt.legend()\n",
        "plt.grid(True)\n",
        "plt.show()"
      ],
      "metadata": {
        "id": "-y_MaaslHtdt",
        "outputId": "afe8694e-4ce2-471d-c486-435761832f78",
        "colab": {
          "base_uri": "https://localhost:8080/",
          "height": 488
        }
      },
      "execution_count": 14,
      "outputs": [
        {
          "output_type": "display_data",
          "data": {
            "text/plain": [
              "<Figure size 1000x500 with 1 Axes>"
            ],
            "image/png": "[encoded data removed]"
          },
          "metadata": {}
        }
      ]
    },
    {
      "cell_type": "code",
      "source": [
        "all_results = pd.concat([bay_result, knn_result, dtc_result])\n",
        "all_results.columns = ['Metoda', 'Natančnost', 'Preciznost', 'Recall', 'F1']\n",
        "\n",
        "\n",
        "all_results.reset_index(drop=True)\n",
        "\n",
        "\n"
      ],
      "metadata": {
        "colab": {
          "base_uri": "https://localhost:8080/",
          "height": 143
        },
        "id": "Cq9JyJaAlo9_",
        "outputId": "0bc2683c-26fc-4270-8f46-6580310bbb2f"
      },
      "execution_count": 15,
      "outputs": [
        {
          "output_type": "execute_result",
          "data": {
            "text/plain": [
              "                 Metoda Natančnost Preciznost    Recall        F1\n",
              "0  Gaussov Naivni Bayes   0.533333   0.549048  0.533333  0.538971\n",
              "1  K najbližjih sosedov       0.45   0.311111      0.45  0.366667\n",
              "2     Odlocitveno drevo   0.516667   0.513763  0.516667  0.513955"
            ],
            "text/html": [
              "\n",
              "  <div id=\"df-c50a8cb7-9445-4022-b349-bc7dd662ceae\" class=\"colab-df-container\">\n",
              "    <div>\n",
              "<style scoped>\n",
              "    .dataframe tbody tr th:only-of-type {\n",
              "        vertical-align: middle;\n",
              "    }\n",
              "\n",
              "    .dataframe tbody tr th {\n",
              "        vertical-align: top;\n",
              "    }\n",
              "\n",
              "    .dataframe thead th {\n",
              "        text-align: right;\n",
              "    }\n",
              "</style>\n",
              "<table border=\"1\" class=\"dataframe\">\n",
              "  <thead>\n",
              "    <tr style=\"text-align: right;\">\n",
              "      <th></th>\n",
              "      <th>Metoda</th>\n",
              "      <th>Natančnost</th>\n",
              "      <th>Preciznost</th>\n",
              "      <th>Recall</th>\n",
              "      <th>F1</th>\n",
              "    </tr>\n",
              "  </thead>\n",
              "  <tbody>\n",
              "    <tr>\n",
              "      <th>0</th>\n",
              "      <td>Gaussov Naivni Bayes</td>\n",
              "      <td>0.533333</td>\n",
              "      <td>0.549048</td>\n",
              "      <td>0.533333</td>\n",
              "      <td>0.538971</td>\n",
              "    </tr>\n",
              "    <tr>\n",
              "      <th>1</th>\n",
              "      <td>K najbližjih sosedov</td>\n",
              "      <td>0.45</td>\n",
              "      <td>0.311111</td>\n",
              "      <td>0.45</td>\n",
              "      <td>0.366667</td>\n",
              "    </tr>\n",
              "    <tr>\n",
              "      <th>2</th>\n",
              "      <td>Odlocitveno drevo</td>\n",
              "      <td>0.516667</td>\n",
              "      <td>0.513763</td>\n",
              "      <td>0.516667</td>\n",
              "      <td>0.513955</td>\n",
              "    </tr>\n",
              "  </tbody>\n",
              "</table>\n",
              "</div>\n",
              "    <div class=\"colab-df-buttons\">\n",
              "\n",
              "  <div class=\"colab-df-container\">\n",
              "    <button class=\"colab-df-convert\" onclick=\"convertToInteractive('df-c50a8cb7-9445-4022-b349-bc7dd662ceae')\"\n",
              "            title=\"Convert this dataframe to an interactive table.\"\n",
              "            style=\"display:none;\">\n",
              "\n",
              "  <svg xmlns=\"http://www.w3.org/2000/svg\" height=\"24px\" viewBox=\"0 -960 960 960\">\n",
              "    <path d=\"M120-120v-720h720v720H120Zm60-500h600v-160H180v160Zm220 220h160v-160H400v160Zm0 220h160v-160H400v160ZM180-400h160v-160H180v160Zm440 0h160v-160H620v160ZM180-180h160v-160H180v160Zm440 0h160v-160H620v160Z\"/>\n",
              "  </svg>\n",
              "    </button>\n",
              "\n",
              "  <style>\n",
              "    .colab-df-container {\n",
              "      display:flex;\n",
              "      gap: 12px;\n",
              "    }\n",
              "\n",
              "    .colab-df-convert {\n",
              "      background-color: #E8F0FE;\n",
              "      border: none;\n",
              "      border-radius: 50%;\n",
              "      cursor: pointer;\n",
              "      display: none;\n",
              "      fill: #1967D2;\n",
              "      height: 32px;\n",
              "      padding: 0 0 0 0;\n",
              "      width: 32px;\n",
              "    }\n",
              "\n",
              "    .colab-df-convert:hover {\n",
              "      background-color: #E2EBFA;\n",
              "      box-shadow: 0px 1px 2px rgba(60, 64, 67, 0.3), 0px 1px 3px 1px rgba(60, 64, 67, 0.15);\n",
              "      fill: #174EA6;\n",
              "    }\n",
              "\n",
              "    .colab-df-buttons div {\n",
              "      margin-bottom: 4px;\n",
              "    }\n",
              "\n",
              "    [theme=dark] .colab-df-convert {\n",
              "      background-color: #3B4455;\n",
              "      fill: #D2E3FC;\n",
              "    }\n",
              "\n",
              "    [theme=dark] .colab-df-convert:hover {\n",
              "      background-color: #434B5C;\n",
              "      box-shadow: 0px 1px 3px 1px rgba(0, 0, 0, 0.15);\n",
              "      filter: drop-shadow(0px 1px 2px rgba(0, 0, 0, 0.3));\n",
              "      fill: #FFFFFF;\n",
              "    }\n",
              "  </style>\n",
              "\n",
              "    <script>\n",
              "      const buttonEl =\n",
              "        document.querySelector('#df-c50a8cb7-9445-4022-b349-bc7dd662ceae button.colab-df-convert');\n",
              "      buttonEl.style.display =\n",
              "        google.colab.kernel.accessAllowed ? 'block' : 'none';\n",
              "\n",
              "      async function convertToInteractive(key) {\n",
              "        const element = document.querySelector('#df-c50a8cb7-9445-4022-b349-bc7dd662ceae');\n",
              "        const dataTable =\n",
              "          await google.colab.kernel.invokeFunction('convertToInteractive',\n",
              "                                                    [key], {});\n",
              "        if (!dataTable) return;\n",
              "\n",
              "        const docLinkHtml = 'Like what you see? Visit the ' +\n",
              "          '<a target=\"_blank\" href=https://colab.research.google.com/notebooks/data_table.ipynb>data table notebook</a>'\n",
              "          + ' to learn more about interactive tables.';\n",
              "        element.innerHTML = '';\n",
              "        dataTable['output_type'] = 'display_data';\n",
              "        await google.colab.output.renderOutput(dataTable, element);\n",
              "        const docLink = document.createElement('div');\n",
              "        docLink.innerHTML = docLinkHtml;\n",
              "        element.appendChild(docLink);\n",
              "      }\n",
              "    </script>\n",
              "  </div>\n",
              "\n",
              "\n",
              "<div id=\"df-1e5bc3a0-03aa-4f37-9b28-e3a15de351b8\">\n",
              "  <button class=\"colab-df-quickchart\" onclick=\"quickchart('df-1e5bc3a0-03aa-4f37-9b28-e3a15de351b8')\"\n",
              "            title=\"Suggest charts\"\n",
              "            style=\"display:none;\">\n",
              "\n",
              "<svg xmlns=\"http://www.w3.org/2000/svg\" height=\"24px\"viewBox=\"0 0 24 24\"\n",
              "     width=\"24px\">\n",
              "    <g>\n",
              "        <path d=\"M19 3H5c-1.1 0-2 .9-2 2v14c0 1.1.9 2 2 2h14c1.1 0 2-.9 2-2V5c0-1.1-.9-2-2-2zM9 17H7v-7h2v7zm4 0h-2V7h2v10zm4 0h-2v-4h2v4z\"/>\n",
              "    </g>\n",
              "</svg>\n",
              "  </button>\n",
              "\n",
              "<style>\n",
              "  .colab-df-quickchart {\n",
              "      --bg-color: #E8F0FE;\n",
              "      --fill-color: #1967D2;\n",
              "      --hover-bg-color: #E2EBFA;\n",
              "      --hover-fill-color: #174EA6;\n",
              "      --disabled-fill-color: #AAA;\n",
              "      --disabled-bg-color: #DDD;\n",
              "  }\n",
              "\n",
              "  [theme=dark] .colab-df-quickchart {\n",
              "      --bg-color: #3B4455;\n",
              "      --fill-color: #D2E3FC;\n",
              "      --hover-bg-color: #434B5C;\n",
              "      --hover-fill-color: #FFFFFF;\n",
              "      --disabled-bg-color: #3B4455;\n",
              "      --disabled-fill-color: #666;\n",
              "  }\n",
              "\n",
              "  .colab-df-quickchart {\n",
              "    background-color: var(--bg-color);\n",
              "    border: none;\n",
              "    border-radius: 50%;\n",
              "    cursor: pointer;\n",
              "    display: none;\n",
              "    fill: var(--fill-color);\n",
              "    height: 32px;\n",
              "    padding: 0;\n",
              "    width: 32px;\n",
              "  }\n",
              "\n",
              "  .colab-df-quickchart:hover {\n",
              "    background-color: var(--hover-bg-color);\n",
              "    box-shadow: 0 1px 2px rgba(60, 64, 67, 0.3), 0 1px 3px 1px rgba(60, 64, 67, 0.15);\n",
              "    fill: var(--button-hover-fill-color);\n",
              "  }\n",
              "\n",
              "  .colab-df-quickchart-complete:disabled,\n",
              "  .colab-df-quickchart-complete:disabled:hover {\n",
              "    background-color: var(--disabled-bg-color);\n",
              "    fill: var(--disabled-fill-color);\n",
              "    box-shadow: none;\n",
              "  }\n",
              "\n",
              "  .colab-df-spinner {\n",
              "    border: 2px solid var(--fill-color);\n",
              "    border-color: transparent;\n",
              "    border-bottom-color: var(--fill-color);\n",
              "    animation:\n",
              "      spin 1s steps(1) infinite;\n",
              "  }\n",
              "\n",
              "  @keyframes spin {\n",
              "    0% {\n",
              "      border-color: transparent;\n",
              "      border-bottom-color: var(--fill-color);\n",
              "      border-left-color: var(--fill-color);\n",
              "    }\n",
              "    20% {\n",
              "      border-color: transparent;\n",
              "      border-left-color: var(--fill-color);\n",
              "      border-top-color: var(--fill-color);\n",
              "    }\n",
              "    30% {\n",
              "      border-color: transparent;\n",
              "      border-left-color: var(--fill-color);\n",
              "      border-top-color: var(--fill-color);\n",
              "      border-right-color: var(--fill-color);\n",
              "    }\n",
              "    40% {\n",
              "      border-color: transparent;\n",
              "      border-right-color: var(--fill-color);\n",
              "      border-top-color: var(--fill-color);\n",
              "    }\n",
              "    60% {\n",
              "      border-color: transparent;\n",
              "      border-right-color: var(--fill-color);\n",
              "    }\n",
              "    80% {\n",
              "      border-color: transparent;\n",
              "      border-right-color: var(--fill-color);\n",
              "      border-bottom-color: var(--fill-color);\n",
              "    }\n",
              "    90% {\n",
              "      border-color: transparent;\n",
              "      border-bottom-color: var(--fill-color);\n",
              "    }\n",
              "  }\n",
              "</style>\n",
              "\n",
              "  <script>\n",
              "    async function quickchart(key) {\n",
              "      const quickchartButtonEl =\n",
              "        document.querySelector('#' + key + ' button');\n",
              "      quickchartButtonEl.disabled = true;  // To prevent multiple clicks.\n",
              "      quickchartButtonEl.classList.add('colab-df-spinner');\n",
              "      try {\n",
              "        const charts = await google.colab.kernel.invokeFunction(\n",
              "            'suggestCharts', [key], {});\n",
              "      } catch (error) {\n",
              "        console.error('Error during call to suggestCharts:', error);\n",
              "      }\n",
              "      quickchartButtonEl.classList.remove('colab-df-spinner');\n",
              "      quickchartButtonEl.classList.add('colab-df-quickchart-complete');\n",
              "    }\n",
              "    (() => {\n",
              "      let quickchartButtonEl =\n",
              "        document.querySelector('#df-1e5bc3a0-03aa-4f37-9b28-e3a15de351b8 button');\n",
              "      quickchartButtonEl.style.display =\n",
              "        google.colab.kernel.accessAllowed ? 'block' : 'none';\n",
              "    })();\n",
              "  </script>\n",
              "</div>\n",
              "    </div>\n",
              "  </div>\n"
            ],
            "application/vnd.google.colaboratory.intrinsic+json": {
              "type": "dataframe",
              "summary": "{\n  \"name\": \"all_results\",\n  \"rows\": 3,\n  \"fields\": [\n    {\n      \"column\": \"Metoda\",\n      \"properties\": {\n        \"dtype\": \"string\",\n        \"num_unique_values\": 3,\n        \"samples\": [\n          \"Gaussov Naivni Bayes\",\n          \"K najbli\\u017ejih sosedov\",\n          \"Odlocitveno drevo\"\n        ],\n        \"semantic_type\": \"\",\n        \"description\": \"\"\n      }\n    },\n    {\n      \"column\": \"Natan\\u010dnost\",\n      \"properties\": {\n        \"dtype\": \"date\",\n        \"min\": 0.45,\n        \"max\": 0.5333333333333333,\n        \"num_unique_values\": 3,\n        \"samples\": [\n          0.5333333333333333,\n          0.45,\n          0.5166666666666667\n        ],\n        \"semantic_type\": \"\",\n        \"description\": \"\"\n      }\n    },\n    {\n      \"column\": \"Preciznost\",\n      \"properties\": {\n        \"dtype\": \"date\",\n        \"min\": 0.3111111111111111,\n        \"max\": 0.549047619047619,\n        \"num_unique_values\": 3,\n        \"samples\": [\n          0.549047619047619,\n          0.3111111111111111,\n          0.5137634408602151\n        ],\n        \"semantic_type\": \"\",\n        \"description\": \"\"\n      }\n    },\n    {\n      \"column\": \"Recall\",\n      \"properties\": {\n        \"dtype\": \"date\",\n        \"min\": 0.45,\n        \"max\": 0.5333333333333333,\n        \"num_unique_values\": 3,\n        \"samples\": [\n          0.5333333333333333,\n          0.45,\n          0.5166666666666667\n        ],\n        \"semantic_type\": \"\",\n        \"description\": \"\"\n      }\n    },\n    {\n      \"column\": \"F1\",\n      \"properties\": {\n        \"dtype\": \"date\",\n        \"min\": 0.36666666666666675,\n        \"max\": 0.5389709906951285,\n        \"num_unique_values\": 3,\n        \"samples\": [\n          0.5389709906951285,\n          0.36666666666666675,\n          0.5139554434636401\n        ],\n        \"semantic_type\": \"\",\n        \"description\": \"\"\n      }\n    }\n  ]\n}"
            }
          },
          "metadata": {},
          "execution_count": 15
        }
      ]
    }
  ]
}